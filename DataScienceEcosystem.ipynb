{
 "cells": [
  {
   "cell_type": "markdown",
   "id": "b3eca610-fc44-41b4-a1fd-9e78b939c3e2",
   "metadata": {
    "tags": []
   },
   "source": [
    "# Data Science Tools and Ecosystem"
   ]
  },
  {
   "cell_type": "markdown",
   "id": "f7e3f2b4-27d3-4ffc-9023-5991c87d7bbb",
   "metadata": {},
   "source": [
    "In this notebook, Data Science and Ecosystems are summarized"
   ]
  },
  {
   "cell_type": "markdown",
   "id": "595cbc1f-fc3c-48ef-8c6e-cfa9b00a8cb2",
   "metadata": {},
   "source": [
    "**Objectives:**\n",
    "- Popular Data Science Languages\n",
    "- Common Libraries Used by Data Scientists\n",
    "- Data Science Tools\n",
    "- Evaluation Expressions in Python"
   ]
  },
  {
   "cell_type": "markdown",
   "id": "de7baeee-9b56-4508-9c41-47c76988e75c",
   "metadata": {},
   "source": [
    "Some of the popular languages Data Scientists use are:\n",
    "- Python\n",
    "- R\n",
    "- SQL"
   ]
  },
  {
   "cell_type": "markdown",
   "id": "2100779b-9625-411e-bacd-2790e6154f96",
   "metadata": {},
   "source": [
    "Some of the commonly used libraries used by Data Scientists include:\n",
    "- Pandas\n",
    "- Numpy\n",
    "- ggplot2\n",
    "- dplyr\n",
    "- seaborn\n",
    "- Matplotlib\n",
    "- Scikit Learn\n",
    "- TensorFlow"
   ]
  },
  {
   "cell_type": "markdown",
   "id": "9f114610-d3f1-4f5e-8a90-7328a0d9b1c6",
   "metadata": {},
   "source": [
    "|Data Science Tools|\n",
    "--------------------\n",
    "|Jupyter Notebook|\n",
    "|RStudio|\n",
    "|Visual Studio|"
   ]
  },
  {
   "cell_type": "markdown",
   "id": "ffe3c9b8-4a90-425d-906c-fc84577414c9",
   "metadata": {},
   "source": [
    "### Below are a few examples of evaluation expressions in Python"
   ]
  },
  {
   "cell_type": "code",
   "execution_count": 2,
   "id": "d2a5ee53-1224-4a80-881b-b27124c678b5",
   "metadata": {},
   "outputs": [
    {
     "data": {
      "text/plain": [
       "17"
      ]
     },
     "execution_count": 2,
     "metadata": {},
     "output_type": "execute_result"
    }
   ],
   "source": [
    "# This is a simple arithmetic expression to multiply then add integers\n",
    "(3*4)+5"
   ]
  },
  {
   "cell_type": "code",
   "execution_count": 3,
   "id": "75211726-33b1-492d-bbaa-e3c22fd18899",
   "metadata": {},
   "outputs": [
    {
     "data": {
      "text/plain": [
       "3.3333333333333335"
      ]
     },
     "execution_count": 3,
     "metadata": {},
     "output_type": "execute_result"
    }
   ],
   "source": [
    "# This will convert 200 minutes to hours by dividing by 60\n",
    "200/60"
   ]
  },
  {
   "cell_type": "markdown",
   "id": "b50201d6-39fb-4474-898a-7470c0555c6b",
   "metadata": {},
   "source": [
    "## Author\n",
    "Oluwatosin Ademilua"
   ]
  },
  {
   "cell_type": "code",
   "execution_count": null,
   "id": "a36cdaa2-0178-493a-8d3b-def1a672e0aa",
   "metadata": {},
   "outputs": [],
   "source": []
  }
 ],
 "metadata": {
  "kernelspec": {
   "display_name": "Python",
   "language": "python",
   "name": "conda-env-python-py"
  },
  "language_info": {
   "codemirror_mode": {
    "name": "ipython",
    "version": 3
   },
   "file_extension": ".py",
   "mimetype": "text/x-python",
   "name": "python",
   "nbconvert_exporter": "python",
   "pygments_lexer": "ipython3",
   "version": "3.7.12"
  }
 },
 "nbformat": 4,
 "nbformat_minor": 5
}
